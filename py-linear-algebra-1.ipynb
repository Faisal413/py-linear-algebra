{
 "cells": [
  {
   "cell_type": "code",
   "execution_count": 1,
   "id": "f1e29f1a",
   "metadata": {},
   "outputs": [],
   "source": [
    "import numpy as np\n",
    "import scipy as sp\n",
    "from numpy import linalg"
   ]
  },
  {
   "cell_type": "markdown",
   "id": "4b1bc2f4",
   "metadata": {},
   "source": [
    "## Make the following vectors in numpy"
   ]
  },
  {
   "cell_type": "code",
   "execution_count": 2,
   "id": "cd1936c7",
   "metadata": {},
   "outputs": [],
   "source": [
    "\n",
    "v1 = np.array([2,4,6])\n",
    "v2 = np.array([10,20,30])"
   ]
  },
  {
   "cell_type": "markdown",
   "id": "aa9fa85c",
   "metadata": {},
   "source": [
    "\n",
    "### Make the following matrices in numpy\n",
    "- a 2x3 matrix populated with random numbers in the range -4 to 4 with dtype = int64\n",
    "- a 3x2 matrix populated with random numbers in the range -4 to 4 with dtype = float32\n",
    "- a 3x3 matrix populated with the numbers 0 to 8 with dtype = float64\n",
    "- a 2x10 matrix populated with the numbers 0 to 19 with dtype = int64"
   ]
  },
  {
   "cell_type": "code",
   "execution_count": 3,
   "id": "6f9c300c",
   "metadata": {},
   "outputs": [
    {
     "data": {
      "text/plain": [
       "dtype('int32')"
      ]
     },
     "execution_count": 3,
     "metadata": {},
     "output_type": "execute_result"
    }
   ],
   "source": [
    "matrix1 = np.random.randint(-4,4,size=(2,3))\n",
    "matrix1.dtype"
   ]
  },
  {
   "cell_type": "code",
   "execution_count": 4,
   "id": "9a046e17",
   "metadata": {},
   "outputs": [
    {
     "data": {
      "text/plain": [
       "dtype('float32')"
      ]
     },
     "execution_count": 4,
     "metadata": {},
     "output_type": "execute_result"
    }
   ],
   "source": [
    "\n",
    "matrix2 = np.random.randint(-4,4,size=(3,2)).astype(np.float32)\n",
    "matrix2.dtype"
   ]
  },
  {
   "cell_type": "code",
   "execution_count": 5,
   "id": "f872253a",
   "metadata": {},
   "outputs": [
    {
     "data": {
      "text/plain": [
       "array([[ 0,  1,  2,  3,  4,  5,  6,  7,  8,  9],\n",
       "       [10, 11, 12, 13, 14, 15, 16, 17, 18, 19]])"
      ]
     },
     "execution_count": 5,
     "metadata": {},
     "output_type": "execute_result"
    }
   ],
   "source": [
    "\n",
    "matrix5 =  np.arange(20).reshape(2,10)\n",
    "matrix5"
   ]
  },
  {
   "cell_type": "markdown",
   "id": "d8afb364",
   "metadata": {},
   "source": [
    "\n",
    "### Tensors using numpy\n",
    "#### Make the following tensors in numpy\n",
    "\n",
    "Tensor with dimensions 3x4x2 populated with random numbers in the range - - 4 to 4 (any dtype)\n",
    "Tensor with dimensions 2x3x4 populated with random numbers in the range - - 10 to 10 (any dtype)\n",
    "Tensor with dimensions 5x4x3x2 populated with random numbers in the range - 10 to 10 (any dtype)\n",
    "Tensor with dimensions 2x4x3x5 populated with random numbers in the range - 10 to 10 (any dtype)"
   ]
  },
  {
   "cell_type": "code",
   "execution_count": 6,
   "id": "b4945dbc",
   "metadata": {},
   "outputs": [
    {
     "data": {
      "text/plain": [
       "array([[[-2, -2],\n",
       "        [ 3,  1],\n",
       "        [-3, -1],\n",
       "        [ 2,  3]],\n",
       "\n",
       "       [[-3,  3],\n",
       "        [-1,  2],\n",
       "        [ 1,  1],\n",
       "        [-1,  0]],\n",
       "\n",
       "       [[-3, -3],\n",
       "        [-2,  1],\n",
       "        [-4, -2],\n",
       "        [ 2, -2]]])"
      ]
     },
     "execution_count": 6,
     "metadata": {},
     "output_type": "execute_result"
    }
   ],
   "source": [
    "tensor1 = np.random.randint(-4,4,size=(3,4,2))\n",
    "tensor1"
   ]
  },
  {
   "cell_type": "code",
   "execution_count": 7,
   "id": "238e3f85",
   "metadata": {},
   "outputs": [
    {
     "data": {
      "text/plain": [
       "array([[[-4, -1,  2,  2],\n",
       "        [-1,  2, -3, -3],\n",
       "        [ 2, -2,  0, -1]],\n",
       "\n",
       "       [[ 1, -2, -3, -2],\n",
       "        [-2, -1,  3, -1],\n",
       "        [ 0, -4,  0,  2]]])"
      ]
     },
     "execution_count": 7,
     "metadata": {},
     "output_type": "execute_result"
    }
   ],
   "source": [
    "tensor2 = np.random.randint(-4,4,size=(2,3,4))\n",
    "tensor2"
   ]
  },
  {
   "cell_type": "code",
   "execution_count": 8,
   "id": "16bc4086",
   "metadata": {},
   "outputs": [
    {
     "data": {
      "text/plain": [
       "array([[[[-1,  3],\n",
       "         [-3,  3],\n",
       "         [-3,  1]],\n",
       "\n",
       "        [[ 3, -3],\n",
       "         [-1,  2],\n",
       "         [-3,  1]],\n",
       "\n",
       "        [[-1, -1],\n",
       "         [ 3, -3],\n",
       "         [ 1,  2]],\n",
       "\n",
       "        [[-1, -1],\n",
       "         [ 3, -4],\n",
       "         [ 1,  2]]],\n",
       "\n",
       "\n",
       "       [[[ 0,  0],\n",
       "         [ 1,  2],\n",
       "         [ 0,  0]],\n",
       "\n",
       "        [[ 0,  2],\n",
       "         [-2,  1],\n",
       "         [ 2, -2]],\n",
       "\n",
       "        [[-4,  2],\n",
       "         [-2,  2],\n",
       "         [-1,  2]],\n",
       "\n",
       "        [[ 2,  2],\n",
       "         [ 2, -3],\n",
       "         [-2, -2]]],\n",
       "\n",
       "\n",
       "       [[[-1, -4],\n",
       "         [ 0,  3],\n",
       "         [ 0, -4]],\n",
       "\n",
       "        [[-3,  0],\n",
       "         [ 1,  2],\n",
       "         [-1,  2]],\n",
       "\n",
       "        [[ 3, -3],\n",
       "         [ 0, -1],\n",
       "         [ 3,  3]],\n",
       "\n",
       "        [[-1,  1],\n",
       "         [ 3,  1],\n",
       "         [-1,  1]]],\n",
       "\n",
       "\n",
       "       [[[ 1, -1],\n",
       "         [-1, -2],\n",
       "         [-1,  2]],\n",
       "\n",
       "        [[ 1, -4],\n",
       "         [ 0,  0],\n",
       "         [ 1, -4]],\n",
       "\n",
       "        [[-1,  2],\n",
       "         [ 2,  2],\n",
       "         [ 3,  2]],\n",
       "\n",
       "        [[-4,  0],\n",
       "         [-4,  2],\n",
       "         [-4,  3]]],\n",
       "\n",
       "\n",
       "       [[[ 1,  3],\n",
       "         [-3,  0],\n",
       "         [ 2,  3]],\n",
       "\n",
       "        [[-1, -4],\n",
       "         [-4, -2],\n",
       "         [ 1, -2]],\n",
       "\n",
       "        [[-4,  0],\n",
       "         [-3,  3],\n",
       "         [ 1,  1]],\n",
       "\n",
       "        [[ 0, -4],\n",
       "         [ 1, -4],\n",
       "         [ 2,  3]]]])"
      ]
     },
     "execution_count": 8,
     "metadata": {},
     "output_type": "execute_result"
    }
   ],
   "source": [
    "tensor3 = np.random.randint(-4,4,size=(5,4,3,2))\n",
    "tensor3"
   ]
  },
  {
   "cell_type": "code",
   "execution_count": 9,
   "id": "bc665e46",
   "metadata": {},
   "outputs": [
    {
     "data": {
      "text/plain": [
       "array([[[[-1, -4,  0,  1, -1],\n",
       "         [-4, -1, -1,  3, -4],\n",
       "         [ 1, -4,  0, -2,  0]],\n",
       "\n",
       "        [[-1,  1, -2,  2,  0],\n",
       "         [-2, -2,  3,  1, -2],\n",
       "         [ 2,  3, -4,  1,  2]],\n",
       "\n",
       "        [[ 1,  1,  3,  0, -2],\n",
       "         [ 2, -4, -2,  1, -4],\n",
       "         [-2,  2,  3,  2,  0]],\n",
       "\n",
       "        [[-2, -4, -4, -1,  0],\n",
       "         [ 2,  0,  1,  2, -1],\n",
       "         [-1, -1,  3, -2, -3]]],\n",
       "\n",
       "\n",
       "       [[[ 2, -1,  3,  1, -2],\n",
       "         [ 2,  1,  2, -2, -2],\n",
       "         [ 0,  1,  1,  3, -2]],\n",
       "\n",
       "        [[-4, -3,  0, -4,  2],\n",
       "         [-1, -4, -1, -1,  1],\n",
       "         [-3,  1,  1,  3,  1]],\n",
       "\n",
       "        [[ 2,  1, -1,  2, -2],\n",
       "         [ 1, -2,  0,  1, -1],\n",
       "         [ 3,  2, -1,  0, -3]],\n",
       "\n",
       "        [[-3, -2,  2,  1, -4],\n",
       "         [ 0,  0,  0,  1, -4],\n",
       "         [-3,  1,  3,  2,  2]]]])"
      ]
     },
     "execution_count": 9,
     "metadata": {},
     "output_type": "execute_result"
    }
   ],
   "source": [
    "\n",
    "tensor4 = np.random.randint(-4,4,size=(2,4,3,5))\n",
    "tensor4"
   ]
  },
  {
   "cell_type": "code",
   "execution_count": 10,
   "id": "1b5caf50",
   "metadata": {},
   "outputs": [
    {
     "data": {
      "text/plain": [
       "array([[[[  0,   1,   2,   3],\n",
       "         [  4,   5,   6,   7],\n",
       "         [  8,   9,  10,  11]],\n",
       "\n",
       "        [[ 12,  13,  14,  15],\n",
       "         [ 16,  17,  18,  19],\n",
       "         [ 20,  21,  22,  23]],\n",
       "\n",
       "        [[ 24,  25,  26,  27],\n",
       "         [ 28,  29,  30,  31],\n",
       "         [ 32,  33,  34,  35]],\n",
       "\n",
       "        [[ 36,  37,  38,  39],\n",
       "         [ 40,  41,  42,  43],\n",
       "         [ 44,  45,  46,  47]],\n",
       "\n",
       "        [[ 48,  49,  50,  51],\n",
       "         [ 52,  53,  54,  55],\n",
       "         [ 56,  57,  58,  59]]],\n",
       "\n",
       "\n",
       "       [[[ 60,  61,  62,  63],\n",
       "         [ 64,  65,  66,  67],\n",
       "         [ 68,  69,  70,  71]],\n",
       "\n",
       "        [[ 72,  73,  74,  75],\n",
       "         [ 76,  77,  78,  79],\n",
       "         [ 80,  81,  82,  83]],\n",
       "\n",
       "        [[ 84,  85,  86,  87],\n",
       "         [ 88,  89,  90,  91],\n",
       "         [ 92,  93,  94,  95]],\n",
       "\n",
       "        [[ 96,  97,  98,  99],\n",
       "         [100, 101, 102, 103],\n",
       "         [104, 105, 106, 107]],\n",
       "\n",
       "        [[108, 109, 110, 111],\n",
       "         [112, 113, 114, 115],\n",
       "         [116, 117, 118, 119]]]])"
      ]
     },
     "execution_count": 10,
     "metadata": {},
     "output_type": "execute_result"
    }
   ],
   "source": [
    "tensor5 = np.arange(120).reshape(2,5,3,4)\n",
    "tensor5\n"
   ]
  },
  {
   "cell_type": "markdown",
   "id": "fb921eaf",
   "metadata": {},
   "source": [
    "#### Use numpy to form a matrix X as follows:"
   ]
  },
  {
   "attachments": {
    "image.png": {
     "image/png": "[encoded data removed]"
    }
   },
   "cell_type": "markdown",
   "id": "ecef21a7",
   "metadata": {},
   "source": [
    "![image.png](attachment:image.png)"
   ]
  },
  {
   "cell_type": "code",
   "execution_count": 11,
   "id": "6471dd92",
   "metadata": {},
   "outputs": [
    {
     "data": {
      "text/plain": [
       "array([[ 0,  1,  2,  3],\n",
       "       [ 4,  5,  6,  7],\n",
       "       [ 8,  9, 10, 11]])"
      ]
     },
     "execution_count": 11,
     "metadata": {},
     "output_type": "execute_result"
    }
   ],
   "source": [
    "\n",
    "X = np.arange(12).reshape(3,4)\n",
    "X"
   ]
  },
  {
   "cell_type": "markdown",
   "id": "0d8c33cd",
   "metadata": {},
   "source": [
    "- Compute $\\mathbf{X}^\\top$, the transpose of $\\mathbf{X}$"
   ]
  },
  {
   "cell_type": "code",
   "execution_count": 12,
   "id": "41ea2306",
   "metadata": {},
   "outputs": [
    {
     "data": {
      "text/plain": [
       "array([[ 0,  4,  8],\n",
       "       [ 1,  5,  9],\n",
       "       [ 2,  6, 10],\n",
       "       [ 3,  7, 11]])"
      ]
     },
     "execution_count": 12,
     "metadata": {},
     "output_type": "execute_result"
    }
   ],
   "source": [
    "X.T"
   ]
  },
  {
   "cell_type": "markdown",
   "id": "95c7cd3b",
   "metadata": {},
   "source": [
    "\n",
    "Complete the following questions about $\\mathbf{X}$ and $\\mathbf{X}^\\top$\n",
    "1. is $\\mathbf{X} - \\mathbf{X}^\\top$ defined? If it is defined, compute it.\n",
    "2. is $\\mathbf{X}^\\top \\mathbf{X}^\\top$ defined? If it is defined, compute it.\n",
    "3. is $\\mathbf{X} \\mathbf{X}^\\top$ defined? If it is defined, compute it.\n",
    "4. is $\\mathbf{X}^\\top \\mathbf{X} $ defined? If it is defined, compute it.\n",
    "5. is $\\mathbf{X} \\mathbf{X}^\\top$ identical to $\\mathbf{X}^\\top \\mathbf{X}$?\n",
    "6. is $\\mathbf{X} \\mathbf{X}^\\top$- $\\mathbf{X}^\\top \\mathbf{X}$ defined? If it is defined, compute it.\n",
    "\n",
    "is $\\mathbf{X} - \\mathbf{X}^\\top$ defined? If it is defined, compute it."
   ]
  },
  {
   "cell_type": "code",
   "execution_count": 14,
   "id": "b32c4b35",
   "metadata": {},
   "outputs": [
    {
     "name": "stdout",
     "output_type": "stream",
     "text": [
      "The difference is not defined\n"
     ]
    }
   ],
   "source": [
    "try:\n",
    "    X - X.T\n",
    "except Exception as e:\n",
    "    print(\"The difference is not defined\")"
   ]
  },
  {
   "cell_type": "markdown",
   "id": "3405239c",
   "metadata": {},
   "source": [
    "is $\\mathbf{X}^\\top \\mathbf{X}^\\top$ defined? If it is defined, compute it."
   ]
  },
  {
   "cell_type": "code",
   "execution_count": 15,
   "id": "c6038bcc",
   "metadata": {},
   "outputs": [
    {
     "name": "stdout",
     "output_type": "stream",
     "text": [
      "The product is not defined\n"
     ]
    }
   ],
   "source": [
    "try:\n",
    "    print(X.T @ X.T)\n",
    "except Exception as e:\n",
    "    print(\"The product is not defined\")"
   ]
  },
  {
   "cell_type": "markdown",
   "id": "1b3de185",
   "metadata": {},
   "source": [
    "\n",
    "is $\\mathbf{X} \\mathbf{X}^\\top$ defined? If it is defined, compute it."
   ]
  },
  {
   "cell_type": "code",
   "execution_count": 16,
   "id": "a9bfd12a",
   "metadata": {},
   "outputs": [
    {
     "name": "stdout",
     "output_type": "stream",
     "text": [
      "[[ 14  38  62]\n",
      " [ 38 126 214]\n",
      " [ 62 214 366]]\n"
     ]
    }
   ],
   "source": [
    "try:\n",
    "    print(X @ X.T)\n",
    "except Exception as e:\n",
    "    print(\"The product is not defined\")"
   ]
  },
  {
   "cell_type": "markdown",
   "id": "630e703e",
   "metadata": {},
   "source": [
    "\n",
    "is $\\mathbf{X}^\\top \\mathbf{X} $ defined? If it is defined, compute it."
   ]
  },
  {
   "cell_type": "code",
   "execution_count": 17,
   "id": "e6d0aac7",
   "metadata": {},
   "outputs": [
    {
     "name": "stdout",
     "output_type": "stream",
     "text": [
      "[[ 80  92 104 116]\n",
      " [ 92 107 122 137]\n",
      " [104 122 140 158]\n",
      " [116 137 158 179]]\n"
     ]
    }
   ],
   "source": [
    "try:\n",
    "    print(X.T @ X)\n",
    "except Exception as e:\n",
    "    print(\"The product is not defined\")"
   ]
  },
  {
   "cell_type": "markdown",
   "id": "97e0596d",
   "metadata": {},
   "source": [
    "is $\\mathbf{X} \\mathbf{X}^\\top$ identical to $\\mathbf{X}^\\top \\mathbf{X}$?\n",
    "\n",
    "No"
   ]
  },
  {
   "cell_type": "markdown",
   "id": "020377cf",
   "metadata": {},
   "source": [
    "is $\\mathbf{X} \\mathbf{X}^\\top$- $\\mathbf{X}^\\top \\mathbf{X}$ defined? If it is defined, compute it.\n",
    "\n",
    "No it is not defined. Since the shapes of $\\mathbf{X} \\mathbf{X}^\\top$ and $\\mathbf{X}^\\top \\mathbf{X}$ are not the same, subtraction of the two matrices is not defined."
   ]
  },
  {
   "cell_type": "code",
   "execution_count": 18,
   "id": "e1218e09",
   "metadata": {},
   "outputs": [
    {
     "name": "stdout",
     "output_type": "stream",
     "text": [
      "Error:operands could not be broadcast together with shapes (3,3) (4,4) \n"
     ]
    }
   ],
   "source": [
    "try:\n",
    "    print(X @ X.T - X.T @ X)\n",
    "except Exception as e:\n",
    "    print(f\"Error:{e}\")"
   ]
  },
  {
   "cell_type": "code",
   "execution_count": null,
   "id": "184870e4",
   "metadata": {},
   "outputs": [],
   "source": []
  }
 ],
 "metadata": {
  "kernelspec": {
   "display_name": "Python 3",
   "language": "python",
   "name": "python3"
  },
  "language_info": {
   "codemirror_mode": {
    "name": "ipython",
    "version": 3
   },
   "file_extension": ".py",
   "mimetype": "text/x-python",
   "name": "python",
   "nbconvert_exporter": "python",
   "pygments_lexer": "ipython3",
   "version": "3.8.8"
  }
 },
 "nbformat": 4,
 "nbformat_minor": 5
}
